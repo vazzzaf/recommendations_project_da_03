{
 "cells": [
  {
   "cell_type": "markdown",
   "metadata": {},
   "source": [
    "<h1><span style=\"color:red\"> Перезапуск ноутбука не сработает по причине затёртых данных подключения к Базе Данных.</span></h1>\n",
    "\n",
    "## Задачи.\n",
    "1. Построить рекомендательную систему, благодаря которой можно будет предлагать клиентам интересные им курсы. Для этого потребуется подготовить и проанализировать имеющиеся данные. Составить итоговую таблицу с рекомендациями, снабдив её необходимыми комментариями.\n",
    "2. Проанализировать результаты А/Б-теста, через месяц проведённого после внедрения фичи, сделать вывод.\n",
    "\n",
    "Содержание:\n",
    "- [Задача 1.](#Task1_start)\n",
    "- [Выводы по задаче 1.](#Task1_end)\n",
    "- [Задача 2.](#Task2_start)\n",
    "- [Выводы по задаче 2.](#Task2_end)"
   ]
  },
  {
   "cell_type": "markdown",
   "metadata": {},
   "source": [
    "<a id='Task1_start'></a>\n",
    "## Задача 1. Строим рекомендательную систему."
   ]
  },
  {
   "cell_type": "code",
   "execution_count": 1,
   "metadata": {},
   "outputs": [],
   "source": [
    "# Импортируем необходимые библиотеки.\n",
    "import pandas as pd\n",
    "import psycopg2\n",
    "import psycopg2.extras\n",
    "import itertools\n",
    "import random\n",
    "import seaborn as sns\n",
    "from matplotlib import pyplot as plt"
   ]
  },
  {
   "cell_type": "code",
   "execution_count": 2,
   "metadata": {},
   "outputs": [],
   "source": [
    "# Получим данные по покупкам пользователей.\n",
    "def getCarts():\n",
    "    query = '''\n",
    "        WITH\n",
    "        -- Объединим две таблички с успешными покупками курсов.\n",
    "        all_successful_carts as\n",
    "            (\n",
    "            SELECT\n",
    "                *\n",
    "            FROM\n",
    "                final.carts as c\n",
    "                    INNER JOIN final.cart_items as i\n",
    "                        on c.id = i.cart_id\n",
    "            WHERE\n",
    "                c.state='successful'\n",
    "                AND i.resource_type='Course'\n",
    "            ),\n",
    "        /**\n",
    "        Из таблицы выше найдём тех пользователей,\n",
    "        которые приобрели как минимум два РАЗНЫХ курса.\n",
    "        **/\n",
    "        users as\n",
    "            (\n",
    "            SELECT\n",
    "                t.user_id\n",
    "            FROM\n",
    "                all_successful_carts as t\n",
    "            GROUP BY\n",
    "                1\n",
    "            HAVING\n",
    "                COUNT(DISTINCT t.resource_id)>1\n",
    "            )\n",
    "        /**\n",
    "        Итоговый срез данных: данные по всем продажам курсов в разрезе пользователей, которые\n",
    "        купили минимум два разных курса.\n",
    "        **/\n",
    "        SELECT\n",
    "            t.cart_id,\n",
    "            t.user_id,\n",
    "            t.resource_id\n",
    "        FROM\n",
    "            all_successful_carts as t\n",
    "                INNER JOIN users as u\n",
    "                    on t.user_id=u.user_id\n",
    "        '''.format()\n",
    "    conn = psycopg2.connect(\"dbname='' user='' host='' password='' port=5432\")\n",
    "    dict_cur = conn.cursor(cursor_factory=psycopg2.extras.DictCursor)\n",
    "    dict_cur.execute(query)\n",
    "    rows = dict_cur.fetchall()\n",
    "    data = []\n",
    "    for row in rows:\n",
    "        data.append(dict(row))\n",
    "    return data\n",
    "\n",
    "df = pd.DataFrame(getCarts())"
   ]
  },
  {
   "cell_type": "code",
   "execution_count": 3,
   "metadata": {
    "scrolled": true
   },
   "outputs": [
    {
     "name": "stdout",
     "output_type": "stream",
     "text": [
      "<class 'pandas.core.frame.DataFrame'>\n",
      "RangeIndex: 34172 entries, 0 to 34171\n",
      "Data columns (total 3 columns):\n",
      " #   Column       Non-Null Count  Dtype\n",
      "---  ------       --------------  -----\n",
      " 0   cart_id      34172 non-null  int64\n",
      " 1   user_id      34172 non-null  int64\n",
      " 2   resource_id  34172 non-null  int64\n",
      "dtypes: int64(3)\n",
      "memory usage: 801.0 KB\n"
     ]
    }
   ],
   "source": [
    "df.info()"
   ]
  },
  {
   "cell_type": "markdown",
   "metadata": {},
   "source": [
    "Пропусков нет."
   ]
  },
  {
   "cell_type": "code",
   "execution_count": 4,
   "metadata": {
    "scrolled": true
   },
   "outputs": [
    {
     "data": {
      "text/html": [
       "<div>\n",
       "<style scoped>\n",
       "    .dataframe tbody tr th:only-of-type {\n",
       "        vertical-align: middle;\n",
       "    }\n",
       "\n",
       "    .dataframe tbody tr th {\n",
       "        vertical-align: top;\n",
       "    }\n",
       "\n",
       "    .dataframe thead th {\n",
       "        text-align: right;\n",
       "    }\n",
       "</style>\n",
       "<table border=\"1\" class=\"dataframe\">\n",
       "  <thead>\n",
       "    <tr style=\"text-align: right;\">\n",
       "      <th></th>\n",
       "      <th>cart_id</th>\n",
       "      <th>user_id</th>\n",
       "      <th>resource_id</th>\n",
       "    </tr>\n",
       "  </thead>\n",
       "  <tbody>\n",
       "    <tr>\n",
       "      <th>0</th>\n",
       "      <td>230789</td>\n",
       "      <td>1010882</td>\n",
       "      <td>490</td>\n",
       "    </tr>\n",
       "    <tr>\n",
       "      <th>1</th>\n",
       "      <td>230722</td>\n",
       "      <td>1010802</td>\n",
       "      <td>514</td>\n",
       "    </tr>\n",
       "    <tr>\n",
       "      <th>2</th>\n",
       "      <td>283372</td>\n",
       "      <td>1120298</td>\n",
       "      <td>514</td>\n",
       "    </tr>\n",
       "    <tr>\n",
       "      <th>3</th>\n",
       "      <td>258959</td>\n",
       "      <td>750528</td>\n",
       "      <td>552</td>\n",
       "    </tr>\n",
       "    <tr>\n",
       "      <th>4</th>\n",
       "      <td>230985</td>\n",
       "      <td>191574</td>\n",
       "      <td>523</td>\n",
       "    </tr>\n",
       "  </tbody>\n",
       "</table>\n",
       "</div>"
      ],
      "text/plain": [
       "   cart_id  user_id  resource_id\n",
       "0   230789  1010882          490\n",
       "1   230722  1010802          514\n",
       "2   283372  1120298          514\n",
       "3   258959   750528          552\n",
       "4   230985   191574          523"
      ]
     },
     "execution_count": 4,
     "metadata": {},
     "output_type": "execute_result"
    }
   ],
   "source": [
    "df.head()"
   ]
  },
  {
   "cell_type": "code",
   "execution_count": 5,
   "metadata": {
    "scrolled": true
   },
   "outputs": [
    {
     "data": {
      "text/plain": [
       "12656"
      ]
     },
     "execution_count": 5,
     "metadata": {},
     "output_type": "execute_result"
    }
   ],
   "source": [
    "df['user_id'].nunique()"
   ]
  },
  {
   "cell_type": "markdown",
   "metadata": {},
   "source": [
    "Уникальных пользователей 12656. Данные не имеют пропусков."
   ]
  },
  {
   "cell_type": "code",
   "execution_count": 6,
   "metadata": {
    "scrolled": true
   },
   "outputs": [
    {
     "data": {
      "text/plain": [
       "user_id\n",
       "51            [516, 1099]\n",
       "6117     [356, 357, 1125]\n",
       "10275         [553, 1147]\n",
       "10457         [361, 1138]\n",
       "17166          [356, 357]\n",
       "Name: resource_id, dtype: object"
      ]
     },
     "execution_count": 6,
     "metadata": {},
     "output_type": "execute_result"
    }
   ],
   "source": [
    "# Составим set из купленных курсов по каждому пользователю без разделения непосредственно на покупки.\n",
    "# set - используется для убирания дубликатов курсов, т.е. когда пользователь дважды покупал курс.\n",
    "df_courses_grp = df.groupby(['user_id'])['resource_id'].apply(set).to_frame()\n",
    "courses = df_courses_grp['resource_id'].apply(lambda x: list(x))\n",
    "\n",
    "# Обязательно отсортируем по возрастанию воизбежание\n",
    "# появления разных вариаций списков с одними и теми же значениями.\n",
    "courses.apply(lambda x: x.sort())\n",
    "courses.head()"
   ]
  },
  {
   "cell_type": "code",
   "execution_count": 7,
   "metadata": {
    "scrolled": false
   },
   "outputs": [
    {
     "data": {
      "text/plain": [
       "user_id\n",
       "51                                [(516, 1099)]\n",
       "6117     [(356, 357), (356, 1125), (357, 1125)]\n",
       "10275                             [(553, 1147)]\n",
       "10457                             [(361, 1138)]\n",
       "17166                              [(356, 357)]\n",
       "Name: resource_id, dtype: object"
      ]
     },
     "execution_count": 7,
     "metadata": {},
     "output_type": "execute_result"
    }
   ],
   "source": [
    "# Применим метод combinations(x, length) из библиотеки itertools смысл которого \n",
    "# в переборе всех возможных комбинаций значений длиной length списка без повторений.\n",
    "pairs_of_courses_by_user = courses.apply(lambda x: list(itertools.combinations(x, 2)))\n",
    "pairs_of_courses_by_user.head()"
   ]
  },
  {
   "cell_type": "code",
   "execution_count": 8,
   "metadata": {
    "scrolled": true
   },
   "outputs": [
    {
     "data": {
      "text/html": [
       "<div>\n",
       "<style scoped>\n",
       "    .dataframe tbody tr th:only-of-type {\n",
       "        vertical-align: middle;\n",
       "    }\n",
       "\n",
       "    .dataframe tbody tr th {\n",
       "        vertical-align: top;\n",
       "    }\n",
       "\n",
       "    .dataframe thead th {\n",
       "        text-align: right;\n",
       "    }\n",
       "</style>\n",
       "<table border=\"1\" class=\"dataframe\">\n",
       "  <thead>\n",
       "    <tr style=\"text-align: right;\">\n",
       "      <th></th>\n",
       "      <th>0</th>\n",
       "      <th>1</th>\n",
       "      <th>2</th>\n",
       "      <th>3</th>\n",
       "      <th>4</th>\n",
       "      <th>5</th>\n",
       "      <th>6</th>\n",
       "      <th>7</th>\n",
       "      <th>8</th>\n",
       "      <th>9</th>\n",
       "      <th>...</th>\n",
       "      <th>161</th>\n",
       "      <th>162</th>\n",
       "      <th>163</th>\n",
       "      <th>164</th>\n",
       "      <th>165</th>\n",
       "      <th>166</th>\n",
       "      <th>167</th>\n",
       "      <th>168</th>\n",
       "      <th>169</th>\n",
       "      <th>170</th>\n",
       "    </tr>\n",
       "  </thead>\n",
       "  <tbody>\n",
       "    <tr>\n",
       "      <th>0</th>\n",
       "      <td>(516, 1099)</td>\n",
       "      <td>None</td>\n",
       "      <td>None</td>\n",
       "      <td>None</td>\n",
       "      <td>None</td>\n",
       "      <td>None</td>\n",
       "      <td>None</td>\n",
       "      <td>None</td>\n",
       "      <td>None</td>\n",
       "      <td>None</td>\n",
       "      <td>...</td>\n",
       "      <td>None</td>\n",
       "      <td>None</td>\n",
       "      <td>None</td>\n",
       "      <td>None</td>\n",
       "      <td>None</td>\n",
       "      <td>None</td>\n",
       "      <td>None</td>\n",
       "      <td>None</td>\n",
       "      <td>None</td>\n",
       "      <td>None</td>\n",
       "    </tr>\n",
       "    <tr>\n",
       "      <th>1</th>\n",
       "      <td>(356, 357)</td>\n",
       "      <td>(356, 1125)</td>\n",
       "      <td>(357, 1125)</td>\n",
       "      <td>None</td>\n",
       "      <td>None</td>\n",
       "      <td>None</td>\n",
       "      <td>None</td>\n",
       "      <td>None</td>\n",
       "      <td>None</td>\n",
       "      <td>None</td>\n",
       "      <td>...</td>\n",
       "      <td>None</td>\n",
       "      <td>None</td>\n",
       "      <td>None</td>\n",
       "      <td>None</td>\n",
       "      <td>None</td>\n",
       "      <td>None</td>\n",
       "      <td>None</td>\n",
       "      <td>None</td>\n",
       "      <td>None</td>\n",
       "      <td>None</td>\n",
       "    </tr>\n",
       "    <tr>\n",
       "      <th>2</th>\n",
       "      <td>(553, 1147)</td>\n",
       "      <td>None</td>\n",
       "      <td>None</td>\n",
       "      <td>None</td>\n",
       "      <td>None</td>\n",
       "      <td>None</td>\n",
       "      <td>None</td>\n",
       "      <td>None</td>\n",
       "      <td>None</td>\n",
       "      <td>None</td>\n",
       "      <td>...</td>\n",
       "      <td>None</td>\n",
       "      <td>None</td>\n",
       "      <td>None</td>\n",
       "      <td>None</td>\n",
       "      <td>None</td>\n",
       "      <td>None</td>\n",
       "      <td>None</td>\n",
       "      <td>None</td>\n",
       "      <td>None</td>\n",
       "      <td>None</td>\n",
       "    </tr>\n",
       "    <tr>\n",
       "      <th>3</th>\n",
       "      <td>(361, 1138)</td>\n",
       "      <td>None</td>\n",
       "      <td>None</td>\n",
       "      <td>None</td>\n",
       "      <td>None</td>\n",
       "      <td>None</td>\n",
       "      <td>None</td>\n",
       "      <td>None</td>\n",
       "      <td>None</td>\n",
       "      <td>None</td>\n",
       "      <td>...</td>\n",
       "      <td>None</td>\n",
       "      <td>None</td>\n",
       "      <td>None</td>\n",
       "      <td>None</td>\n",
       "      <td>None</td>\n",
       "      <td>None</td>\n",
       "      <td>None</td>\n",
       "      <td>None</td>\n",
       "      <td>None</td>\n",
       "      <td>None</td>\n",
       "    </tr>\n",
       "    <tr>\n",
       "      <th>4</th>\n",
       "      <td>(356, 357)</td>\n",
       "      <td>None</td>\n",
       "      <td>None</td>\n",
       "      <td>None</td>\n",
       "      <td>None</td>\n",
       "      <td>None</td>\n",
       "      <td>None</td>\n",
       "      <td>None</td>\n",
       "      <td>None</td>\n",
       "      <td>None</td>\n",
       "      <td>...</td>\n",
       "      <td>None</td>\n",
       "      <td>None</td>\n",
       "      <td>None</td>\n",
       "      <td>None</td>\n",
       "      <td>None</td>\n",
       "      <td>None</td>\n",
       "      <td>None</td>\n",
       "      <td>None</td>\n",
       "      <td>None</td>\n",
       "      <td>None</td>\n",
       "    </tr>\n",
       "  </tbody>\n",
       "</table>\n",
       "<p>5 rows × 171 columns</p>\n",
       "</div>"
      ],
      "text/plain": [
       "           0            1            2     3     4     5     6     7     8    \\\n",
       "0  (516, 1099)         None         None  None  None  None  None  None  None   \n",
       "1   (356, 357)  (356, 1125)  (357, 1125)  None  None  None  None  None  None   \n",
       "2  (553, 1147)         None         None  None  None  None  None  None  None   \n",
       "3  (361, 1138)         None         None  None  None  None  None  None  None   \n",
       "4   (356, 357)         None         None  None  None  None  None  None  None   \n",
       "\n",
       "    9    ...   161   162   163   164   165   166   167   168   169   170  \n",
       "0  None  ...  None  None  None  None  None  None  None  None  None  None  \n",
       "1  None  ...  None  None  None  None  None  None  None  None  None  None  \n",
       "2  None  ...  None  None  None  None  None  None  None  None  None  None  \n",
       "3  None  ...  None  None  None  None  None  None  None  None  None  None  \n",
       "4  None  ...  None  None  None  None  None  None  None  None  None  None  \n",
       "\n",
       "[5 rows x 171 columns]"
      ]
     },
     "execution_count": 8,
     "metadata": {},
     "output_type": "execute_result"
    }
   ],
   "source": [
    "# В итоге получили Series по каждому user_id с списком всех возможных пар купленных курсов.\n",
    "# Сделаем из него DataFrame в строках которого будут перечислены \n",
    "# все возможные пары курсов по каждому user_id.\n",
    "df_pairs_of_courses_by_user = pd.DataFrame(pairs_of_courses_by_user.to_list())\n",
    "df_pairs_of_courses_by_user.head()"
   ]
  },
  {
   "cell_type": "code",
   "execution_count": 9,
   "metadata": {
    "scrolled": true
   },
   "outputs": [
    {
     "data": {
      "text/html": [
       "<div>\n",
       "<style scoped>\n",
       "    .dataframe tbody tr th:only-of-type {\n",
       "        vertical-align: middle;\n",
       "    }\n",
       "\n",
       "    .dataframe tbody tr th {\n",
       "        vertical-align: top;\n",
       "    }\n",
       "\n",
       "    .dataframe thead th {\n",
       "        text-align: right;\n",
       "    }\n",
       "</style>\n",
       "<table border=\"1\" class=\"dataframe\">\n",
       "  <thead>\n",
       "    <tr style=\"text-align: right;\">\n",
       "      <th></th>\n",
       "      <th>resource_id</th>\n",
       "      <th>cnt_courses</th>\n",
       "    </tr>\n",
       "    <tr>\n",
       "      <th>user_id</th>\n",
       "      <th></th>\n",
       "      <th></th>\n",
       "    </tr>\n",
       "  </thead>\n",
       "  <tbody>\n",
       "    <tr>\n",
       "      <th>694146</th>\n",
       "      <td>[489, 490, 515, 523, 552, 564, 566, 670, 764, ...</td>\n",
       "      <td>19</td>\n",
       "    </tr>\n",
       "    <tr>\n",
       "      <th>953401</th>\n",
       "      <td>[490, 502, 514, 515, 518, 519, 523, 551, 552, ...</td>\n",
       "      <td>18</td>\n",
       "    </tr>\n",
       "    <tr>\n",
       "      <th>1050532</th>\n",
       "      <td>[363, 366, 489, 502, 511, 523, 551, 552, 562, ...</td>\n",
       "      <td>18</td>\n",
       "    </tr>\n",
       "    <tr>\n",
       "      <th>992470</th>\n",
       "      <td>[489, 502, 514, 515, 517, 518, 519, 523, 551, ...</td>\n",
       "      <td>17</td>\n",
       "    </tr>\n",
       "    <tr>\n",
       "      <th>722252</th>\n",
       "      <td>[357, 366, 489, 490, 502, 514, 515, 523, 551, ...</td>\n",
       "      <td>17</td>\n",
       "    </tr>\n",
       "  </tbody>\n",
       "</table>\n",
       "</div>"
      ],
      "text/plain": [
       "                                               resource_id  cnt_courses\n",
       "user_id                                                                \n",
       "694146   [489, 490, 515, 523, 552, 564, 566, 670, 764, ...           19\n",
       "953401   [490, 502, 514, 515, 518, 519, 523, 551, 552, ...           18\n",
       "1050532  [363, 366, 489, 502, 511, 523, 551, 552, 562, ...           18\n",
       "992470   [489, 502, 514, 515, 517, 518, 519, 523, 551, ...           17\n",
       "722252   [357, 366, 489, 490, 502, 514, 515, 523, 551, ...           17"
      ]
     },
     "execution_count": 9,
     "metadata": {},
     "output_type": "execute_result"
    }
   ],
   "source": [
    "# Мы видим 171 столбeц - это нам говорит о том, что кто-то из пользователей купил 19 уникальных курсов.\n",
    "# Откуда это? Из формулы: допустим было куплено N курсов, значит кол-во возможных пар = N*(N-1)/2\n",
    "# Проверим это:\n",
    "tmpDf = courses.to_frame()\n",
    "tmpDf['cnt_courses'] = tmpDf['resource_id'].apply(lambda x: len(x))\n",
    "tmpDf.sort_values('cnt_courses', ascending=False).head()"
   ]
  },
  {
   "cell_type": "markdown",
   "metadata": {},
   "source": [
    "У пользователя с id 694146 было куплено 19 разных курсов."
   ]
  },
  {
   "cell_type": "code",
   "execution_count": 10,
   "metadata": {},
   "outputs": [
    {
     "data": {
      "text/plain": [
       "0         (516, 1099)\n",
       "1          (356, 357)\n",
       "2         (553, 1147)\n",
       "3         (361, 1138)\n",
       "4          (356, 357)\n",
       "             ...     \n",
       "40012    (1103, 1116)\n",
       "40013    (1103, 1156)\n",
       "40014    (1115, 1116)\n",
       "40015    (1115, 1156)\n",
       "40016    (1116, 1156)\n",
       "Length: 40017, dtype: object"
      ]
     },
     "execution_count": 10,
     "metadata": {},
     "output_type": "execute_result"
    }
   ],
   "source": [
    "# Преобразуем DataFrame в Series в котором будут только пары курсов по каждому пользователю\n",
    "# в одну колонку.\n",
    "all_pairs_of_courses = pd.Series(dtype='object')\n",
    "for i in df_pairs_of_courses_by_user:\n",
    "    all_pairs_of_courses = pd.concat([all_pairs_of_courses,df_pairs_of_courses_by_user[i].dropna()])\n",
    "all_pairs_of_courses.reset_index(drop=True)"
   ]
  },
  {
   "cell_type": "code",
   "execution_count": 11,
   "metadata": {},
   "outputs": [
    {
     "name": "stdout",
     "output_type": "stream",
     "text": [
      "Всего уникальных пар курсов: 3989\n",
      "Самая часто встречающаяся пара: (551, 566)\n"
     ]
    }
   ],
   "source": [
    "# Посчитаем наиболее частовстречающиеся пары курсов.\n",
    "df_pairs_count = all_pairs_of_courses.value_counts()\n",
    "print('Всего уникальных пар курсов:', len(df_pairs_count))\n",
    "print('Самая часто встречающаяся пара:', df_pairs_count.index[0])"
   ]
  },
  {
   "cell_type": "code",
   "execution_count": 12,
   "metadata": {
    "scrolled": true
   },
   "outputs": [
    {
     "data": {
      "text/html": [
       "<div>\n",
       "<style scoped>\n",
       "    .dataframe tbody tr th:only-of-type {\n",
       "        vertical-align: middle;\n",
       "    }\n",
       "\n",
       "    .dataframe tbody tr th {\n",
       "        vertical-align: top;\n",
       "    }\n",
       "\n",
       "    .dataframe thead th {\n",
       "        text-align: right;\n",
       "    }\n",
       "</style>\n",
       "<table border=\"1\" class=\"dataframe\">\n",
       "  <thead>\n",
       "    <tr style=\"text-align: right;\">\n",
       "      <th></th>\n",
       "      <th>pair_of_courses</th>\n",
       "      <th>amount</th>\n",
       "    </tr>\n",
       "  </thead>\n",
       "  <tbody>\n",
       "    <tr>\n",
       "      <th>0</th>\n",
       "      <td>(551, 566)</td>\n",
       "      <td>797</td>\n",
       "    </tr>\n",
       "    <tr>\n",
       "      <th>1</th>\n",
       "      <td>(515, 551)</td>\n",
       "      <td>417</td>\n",
       "    </tr>\n",
       "    <tr>\n",
       "      <th>2</th>\n",
       "      <td>(489, 551)</td>\n",
       "      <td>311</td>\n",
       "    </tr>\n",
       "    <tr>\n",
       "      <th>3</th>\n",
       "      <td>(523, 551)</td>\n",
       "      <td>304</td>\n",
       "    </tr>\n",
       "    <tr>\n",
       "      <th>4</th>\n",
       "      <td>(566, 794)</td>\n",
       "      <td>290</td>\n",
       "    </tr>\n",
       "  </tbody>\n",
       "</table>\n",
       "</div>"
      ],
      "text/plain": [
       "  pair_of_courses  amount\n",
       "0      (551, 566)     797\n",
       "1      (515, 551)     417\n",
       "2      (489, 551)     311\n",
       "3      (523, 551)     304\n",
       "4      (566, 794)     290"
      ]
     },
     "execution_count": 12,
     "metadata": {},
     "output_type": "execute_result"
    }
   ],
   "source": [
    "df_pairs_count = df_pairs_count.reset_index()\n",
    "df_pairs_count.columns = ['pair_of_courses', 'amount']\n",
    "df_pairs_count.head()"
   ]
  },
  {
   "cell_type": "code",
   "execution_count": 13,
   "metadata": {
    "scrolled": true
   },
   "outputs": [
    {
     "data": {
      "text/plain": [
       "<AxesSubplot:>"
      ]
     },
     "execution_count": 13,
     "metadata": {},
     "output_type": "execute_result"
    },
    {
     "data": {
      "image/png": "[encoded data removed]",
      "text/plain": [
       "<Figure size 432x288 with 1 Axes>"
      ]
     },
     "metadata": {
      "needs_background": "light"
     },
     "output_type": "display_data"
    }
   ],
   "source": [
    "df_pairs_count.plot()"
   ]
  },
  {
   "cell_type": "code",
   "execution_count": 14,
   "metadata": {},
   "outputs": [
    {
     "name": "stdout",
     "output_type": "stream",
     "text": [
      "Медианное и среднее кол-во встречающихся пар курсов (соответственно): 3.0 и 10\n",
      "Всего возможных пар: 3989\n",
      "Кол-во пар курсов больше или равных медаине и среднему: 2226 и 841\n"
     ]
    }
   ],
   "source": [
    "print('Медианное и среднее кол-во встречающихся пар курсов (соответственно):', df_pairs_count['amount'].median(), 'и', round(df_pairs_count['amount'].mean()))\n",
    "print('Всего возможных пар:', len(df_pairs_count))\n",
    "print('Кол-во пар курсов больше или равных медаине и среднему:',\\\n",
    "      len(df_pairs_count[df_pairs_count['amount'] >= df_pairs_count['amount'].median()]),\\\n",
    "      'и',\\\n",
    "      len(df_pairs_count[df_pairs_count['amount'] >= df_pairs_count['amount'].mean()]))"
   ]
  },
  {
   "cell_type": "markdown",
   "metadata": {},
   "source": [
    "График кол-ва разных купленных пар курсов указывает нам на то, что большая часть пар курсов повторяется в покупках при менее 50 повторах. Учитывая это, появляется вопрос: насколько \"популярна\" должна быть пара курсов, чтобы мы могли эту пару использовать в качестве \"основы\" для рекомендации? Как видим выше, если взять в качестве \"отправной точки\" среднее, то большинство (80%) всех пар отпадает, поэтому я решил остановится на медиане при которой остается больше половины всех пар.\n",
    "\n",
    "Здесь уместна фраза: \"один раз - случайность, два раза - совпадение, три раза - закономерность\". :-)\n",
    "\n",
    "Но не стоит забывать, что изначально мы составили список только по тем курсам, которые покупались пользователями совместно с другими. Учитывая это и что часть пар мы отбросим, то скорее всего будут курсы, которые не будут иметь рекомендации, а рекомендательная система априори должна работать для каждого продаваемого курса.\n",
    "\n",
    "Поэтому загрузим все имеющиеся курсы (т.к. у нас имеется доступ к очень ограниченному кол-ву данных и список всех имеющихся курсов мы получить не можем, то допустим что каждый курс был продан хотя бы один раз). Далее для каждого курса мы подберём два в качестве рекомендаций исходя из следующих условий:\n",
    "1. Ищем рекомендуемый курс в \"популярных\" парах. Если не нашли или нашли только один, то \"см. п. 2\". Если у исходного курса имеется несколько пар с одинаковой \"популярностью\", то будем брать из той пары, в которой находится наиболее продаваемый курс.\n",
    "2. Рекомендуем наиболее продаваемый курс рандомно из лучшей 20-ки."
   ]
  },
  {
   "cell_type": "code",
   "execution_count": 15,
   "metadata": {},
   "outputs": [
    {
     "name": "stdout",
     "output_type": "stream",
     "text": [
      "Кол-во строк в df_pairs: 2226\n"
     ]
    },
    {
     "data": {
      "text/html": [
       "<div>\n",
       "<style scoped>\n",
       "    .dataframe tbody tr th:only-of-type {\n",
       "        vertical-align: middle;\n",
       "    }\n",
       "\n",
       "    .dataframe tbody tr th {\n",
       "        vertical-align: top;\n",
       "    }\n",
       "\n",
       "    .dataframe thead th {\n",
       "        text-align: right;\n",
       "    }\n",
       "</style>\n",
       "<table border=\"1\" class=\"dataframe\">\n",
       "  <thead>\n",
       "    <tr style=\"text-align: right;\">\n",
       "      <th></th>\n",
       "      <th>amount</th>\n",
       "      <th>c1</th>\n",
       "      <th>c2</th>\n",
       "    </tr>\n",
       "  </thead>\n",
       "  <tbody>\n",
       "    <tr>\n",
       "      <th>0</th>\n",
       "      <td>797</td>\n",
       "      <td>551</td>\n",
       "      <td>566</td>\n",
       "    </tr>\n",
       "    <tr>\n",
       "      <th>1</th>\n",
       "      <td>417</td>\n",
       "      <td>515</td>\n",
       "      <td>551</td>\n",
       "    </tr>\n",
       "    <tr>\n",
       "      <th>2</th>\n",
       "      <td>311</td>\n",
       "      <td>489</td>\n",
       "      <td>551</td>\n",
       "    </tr>\n",
       "    <tr>\n",
       "      <th>3</th>\n",
       "      <td>304</td>\n",
       "      <td>523</td>\n",
       "      <td>551</td>\n",
       "    </tr>\n",
       "    <tr>\n",
       "      <th>4</th>\n",
       "      <td>290</td>\n",
       "      <td>566</td>\n",
       "      <td>794</td>\n",
       "    </tr>\n",
       "  </tbody>\n",
       "</table>\n",
       "</div>"
      ],
      "text/plain": [
       "   amount   c1   c2\n",
       "0     797  551  566\n",
       "1     417  515  551\n",
       "2     311  489  551\n",
       "3     304  523  551\n",
       "4     290  566  794"
      ]
     },
     "execution_count": 15,
     "metadata": {},
     "output_type": "execute_result"
    }
   ],
   "source": [
    "# Отберём часть пар с кол-вом повтором больше или равным медиане.\n",
    "# Колонку с списком курсов разобьем на две, затем её удалим.\n",
    "df_pairs = df_pairs_count[df_pairs_count['amount'] >= df_pairs_count['amount'].median()].copy()\n",
    "df_pairs[['c1', 'c2']] = pd.DataFrame(df_pairs['pair_of_courses'].to_list())\n",
    "df_pairs = df_pairs.drop(columns='pair_of_courses')\n",
    "print('Кол-во строк в df_pairs:', len(df_pairs))\n",
    "df_pairs.head()"
   ]
  },
  {
   "cell_type": "code",
   "execution_count": 16,
   "metadata": {},
   "outputs": [
    {
     "name": "stdout",
     "output_type": "stream",
     "text": [
      "Кол-во строк в df_pairs: 4452\n"
     ]
    },
    {
     "data": {
      "text/html": [
       "<div>\n",
       "<style scoped>\n",
       "    .dataframe tbody tr th:only-of-type {\n",
       "        vertical-align: middle;\n",
       "    }\n",
       "\n",
       "    .dataframe tbody tr th {\n",
       "        vertical-align: top;\n",
       "    }\n",
       "\n",
       "    .dataframe thead th {\n",
       "        text-align: right;\n",
       "    }\n",
       "</style>\n",
       "<table border=\"1\" class=\"dataframe\">\n",
       "  <thead>\n",
       "    <tr style=\"text-align: right;\">\n",
       "      <th></th>\n",
       "      <th>amount</th>\n",
       "      <th>c1</th>\n",
       "      <th>c2</th>\n",
       "    </tr>\n",
       "  </thead>\n",
       "  <tbody>\n",
       "    <tr>\n",
       "      <th>0</th>\n",
       "      <td>797</td>\n",
       "      <td>551</td>\n",
       "      <td>566</td>\n",
       "    </tr>\n",
       "    <tr>\n",
       "      <th>1</th>\n",
       "      <td>797</td>\n",
       "      <td>566</td>\n",
       "      <td>551</td>\n",
       "    </tr>\n",
       "    <tr>\n",
       "      <th>2</th>\n",
       "      <td>417</td>\n",
       "      <td>551</td>\n",
       "      <td>515</td>\n",
       "    </tr>\n",
       "    <tr>\n",
       "      <th>3</th>\n",
       "      <td>417</td>\n",
       "      <td>515</td>\n",
       "      <td>551</td>\n",
       "    </tr>\n",
       "    <tr>\n",
       "      <th>4</th>\n",
       "      <td>311</td>\n",
       "      <td>551</td>\n",
       "      <td>489</td>\n",
       "    </tr>\n",
       "  </tbody>\n",
       "</table>\n",
       "</div>"
      ],
      "text/plain": [
       "   amount   c1   c2\n",
       "0     797  551  566\n",
       "1     797  566  551\n",
       "2     417  551  515\n",
       "3     417  515  551\n",
       "4     311  551  489"
      ]
     },
     "execution_count": 16,
     "metadata": {},
     "output_type": "execute_result"
    }
   ],
   "source": [
    "# По первой строке видно: курсу 551 стоит рекомендовать курс 566, т.к. в такой паре они попадаются 797 раз.\n",
    "# Только и в обратную сторону это тоже справедливо: курсу 566 стоит рекомендовать курс 551 по той же причине.\n",
    "# Чтобы в дальнейшем искать рекомендуемый курс быстрее, мы данный датафрейм объединим с самим собой, добавив снизу и\n",
    "# переставив колонки c1 и c2 местами. Таким образом достаточно будет один раз произвести отбор по одной из колонок\n",
    "# чтобы найти нужную пару.\n",
    "tmpDf = df_pairs.copy()\n",
    "tmpDf.columns = ['amount','c2','c1']\n",
    "df_pairs = df_pairs.append(tmpDf[['amount','c1','c2']], ignore_index=True).sort_values('amount', ascending=False, ignore_index=True)\n",
    "print('Кол-во строк в df_pairs:', len(df_pairs))\n",
    "df_pairs.head()"
   ]
  },
  {
   "cell_type": "code",
   "execution_count": 17,
   "metadata": {
    "scrolled": true
   },
   "outputs": [
    {
     "data": {
      "text/html": [
       "<div>\n",
       "<style scoped>\n",
       "    .dataframe tbody tr th:only-of-type {\n",
       "        vertical-align: middle;\n",
       "    }\n",
       "\n",
       "    .dataframe tbody tr th {\n",
       "        vertical-align: top;\n",
       "    }\n",
       "\n",
       "    .dataframe thead th {\n",
       "        text-align: right;\n",
       "    }\n",
       "</style>\n",
       "<table border=\"1\" class=\"dataframe\">\n",
       "  <thead>\n",
       "    <tr style=\"text-align: right;\">\n",
       "      <th></th>\n",
       "      <th>user_id</th>\n",
       "      <th>cart_id</th>\n",
       "      <th>resource_id</th>\n",
       "    </tr>\n",
       "  </thead>\n",
       "  <tbody>\n",
       "    <tr>\n",
       "      <th>0</th>\n",
       "      <td>1010882</td>\n",
       "      <td>230789</td>\n",
       "      <td>490</td>\n",
       "    </tr>\n",
       "    <tr>\n",
       "      <th>1</th>\n",
       "      <td>906674</td>\n",
       "      <td>189760</td>\n",
       "      <td>357</td>\n",
       "    </tr>\n",
       "    <tr>\n",
       "      <th>2</th>\n",
       "      <td>160494</td>\n",
       "      <td>258743</td>\n",
       "      <td>507</td>\n",
       "    </tr>\n",
       "    <tr>\n",
       "      <th>3</th>\n",
       "      <td>1084654</td>\n",
       "      <td>258697</td>\n",
       "      <td>514</td>\n",
       "    </tr>\n",
       "    <tr>\n",
       "      <th>4</th>\n",
       "      <td>749529</td>\n",
       "      <td>230716</td>\n",
       "      <td>489</td>\n",
       "    </tr>\n",
       "  </tbody>\n",
       "</table>\n",
       "</div>"
      ],
      "text/plain": [
       "   user_id  cart_id  resource_id\n",
       "0  1010882   230789          490\n",
       "1   906674   189760          357\n",
       "2   160494   258743          507\n",
       "3  1084654   258697          514\n",
       "4   749529   230716          489"
      ]
     },
     "execution_count": 17,
     "metadata": {},
     "output_type": "execute_result"
    }
   ],
   "source": [
    "# Загрузим все успешные покупки пользователей.\n",
    "def getCarts():\n",
    "    query = '''\n",
    "        SELECT\n",
    "            c.user_id,\n",
    "            i.cart_id,\n",
    "            i.resource_id\n",
    "        FROM\n",
    "            final.carts as c\n",
    "                INNER JOIN final.cart_items as i\n",
    "                    on c.id = i.cart_id\n",
    "        WHERE\n",
    "            c.state='successful'\n",
    "            AND i.resource_type='Course'\n",
    "        '''.format()\n",
    "    conn = psycopg2.connect(\"dbname='' user='' host='' password='' port=5432\")\n",
    "    dict_cur = conn.cursor(cursor_factory=psycopg2.extras.DictCursor)\n",
    "    dict_cur.execute(query)\n",
    "    rows = dict_cur.fetchall()\n",
    "    data = []\n",
    "    for row in rows:\n",
    "        data.append(dict(row))\n",
    "    return data\n",
    "\n",
    "all_successful_carts = pd.DataFrame(getCarts())\n",
    "all_successful_carts.head()"
   ]
  },
  {
   "cell_type": "code",
   "execution_count": 18,
   "metadata": {},
   "outputs": [
    {
     "name": "stdout",
     "output_type": "stream",
     "text": [
      "Всего курсов: 126\n"
     ]
    },
    {
     "data": {
      "text/html": [
       "<div>\n",
       "<style scoped>\n",
       "    .dataframe tbody tr th:only-of-type {\n",
       "        vertical-align: middle;\n",
       "    }\n",
       "\n",
       "    .dataframe tbody tr th {\n",
       "        vertical-align: top;\n",
       "    }\n",
       "\n",
       "    .dataframe thead th {\n",
       "        text-align: right;\n",
       "    }\n",
       "</style>\n",
       "<table border=\"1\" class=\"dataframe\">\n",
       "  <thead>\n",
       "    <tr style=\"text-align: right;\">\n",
       "      <th></th>\n",
       "      <th>resource_id</th>\n",
       "      <th>amount_sold</th>\n",
       "    </tr>\n",
       "  </thead>\n",
       "  <tbody>\n",
       "    <tr>\n",
       "      <th>0</th>\n",
       "      <td>551</td>\n",
       "      <td>9570</td>\n",
       "    </tr>\n",
       "    <tr>\n",
       "      <th>1</th>\n",
       "      <td>566</td>\n",
       "      <td>6222</td>\n",
       "    </tr>\n",
       "    <tr>\n",
       "      <th>2</th>\n",
       "      <td>490</td>\n",
       "      <td>2712</td>\n",
       "    </tr>\n",
       "    <tr>\n",
       "      <th>3</th>\n",
       "      <td>794</td>\n",
       "      <td>2525</td>\n",
       "    </tr>\n",
       "    <tr>\n",
       "      <th>4</th>\n",
       "      <td>515</td>\n",
       "      <td>2049</td>\n",
       "    </tr>\n",
       "  </tbody>\n",
       "</table>\n",
       "</div>"
      ],
      "text/plain": [
       "   resource_id  amount_sold\n",
       "0          551         9570\n",
       "1          566         6222\n",
       "2          490         2712\n",
       "3          794         2525\n",
       "4          515         2049"
      ]
     },
     "execution_count": 18,
     "metadata": {},
     "output_type": "execute_result"
    }
   ],
   "source": [
    "# Датафрейм по кол-ву продаж каждого курса отдельно.\n",
    "df_sold_courses = all_successful_carts['resource_id'].value_counts().reset_index()\n",
    "df_sold_courses.columns = ['resource_id', 'amount_sold']\n",
    "print('Всего курсов:', len(df_sold_courses))\n",
    "df_sold_courses.head()"
   ]
  },
  {
   "cell_type": "code",
   "execution_count": 19,
   "metadata": {
    "scrolled": true
   },
   "outputs": [
    {
     "name": "stdout",
     "output_type": "stream",
     "text": [
      "<class 'pandas.core.frame.DataFrame'>\n",
      "Int64Index: 4452 entries, 0 to 4451\n",
      "Data columns (total 4 columns):\n",
      " #   Column       Non-Null Count  Dtype\n",
      "---  ------       --------------  -----\n",
      " 0   amount       4452 non-null   int64\n",
      " 1   c1           4452 non-null   int64\n",
      " 2   c2           4452 non-null   int64\n",
      " 3   amount_sold  4452 non-null   int64\n",
      "dtypes: int64(4)\n",
      "memory usage: 173.9 KB\n"
     ]
    }
   ],
   "source": [
    "# Дополним этими данными нашу табличку популярности пар курсов.\n",
    "df_pairs = df_pairs.merge(df_sold_courses, how='left', left_on='c2', right_on='resource_id')\n",
    "df_pairs.drop(columns='resource_id', inplace=True)\n",
    "df_pairs.info()"
   ]
  },
  {
   "cell_type": "markdown",
   "metadata": {},
   "source": [
    "Пропусков нет."
   ]
  },
  {
   "cell_type": "code",
   "execution_count": 20,
   "metadata": {},
   "outputs": [
    {
     "data": {
      "text/html": [
       "<div>\n",
       "<style scoped>\n",
       "    .dataframe tbody tr th:only-of-type {\n",
       "        vertical-align: middle;\n",
       "    }\n",
       "\n",
       "    .dataframe tbody tr th {\n",
       "        vertical-align: top;\n",
       "    }\n",
       "\n",
       "    .dataframe thead th {\n",
       "        text-align: right;\n",
       "    }\n",
       "</style>\n",
       "<table border=\"1\" class=\"dataframe\">\n",
       "  <thead>\n",
       "    <tr style=\"text-align: right;\">\n",
       "      <th></th>\n",
       "      <th>amount</th>\n",
       "      <th>c1</th>\n",
       "      <th>c2</th>\n",
       "      <th>amount_sold</th>\n",
       "    </tr>\n",
       "  </thead>\n",
       "  <tbody>\n",
       "    <tr>\n",
       "      <th>0</th>\n",
       "      <td>797</td>\n",
       "      <td>551</td>\n",
       "      <td>566</td>\n",
       "      <td>6222</td>\n",
       "    </tr>\n",
       "    <tr>\n",
       "      <th>1</th>\n",
       "      <td>797</td>\n",
       "      <td>566</td>\n",
       "      <td>551</td>\n",
       "      <td>9570</td>\n",
       "    </tr>\n",
       "    <tr>\n",
       "      <th>2</th>\n",
       "      <td>417</td>\n",
       "      <td>551</td>\n",
       "      <td>515</td>\n",
       "      <td>2049</td>\n",
       "    </tr>\n",
       "    <tr>\n",
       "      <th>3</th>\n",
       "      <td>417</td>\n",
       "      <td>515</td>\n",
       "      <td>551</td>\n",
       "      <td>9570</td>\n",
       "    </tr>\n",
       "    <tr>\n",
       "      <th>4</th>\n",
       "      <td>311</td>\n",
       "      <td>551</td>\n",
       "      <td>489</td>\n",
       "      <td>1728</td>\n",
       "    </tr>\n",
       "  </tbody>\n",
       "</table>\n",
       "</div>"
      ],
      "text/plain": [
       "   amount   c1   c2  amount_sold\n",
       "0     797  551  566         6222\n",
       "1     797  566  551         9570\n",
       "2     417  551  515         2049\n",
       "3     417  515  551         9570\n",
       "4     311  551  489         1728"
      ]
     },
     "execution_count": 20,
     "metadata": {},
     "output_type": "execute_result"
    }
   ],
   "source": [
    "df_pairs.head()"
   ]
  },
  {
   "cell_type": "code",
   "execution_count": 21,
   "metadata": {},
   "outputs": [
    {
     "name": "stdout",
     "output_type": "stream",
     "text": [
      "Всего уникальных курсов (кол-во строк): 126\n"
     ]
    },
    {
     "data": {
      "text/html": [
       "<div>\n",
       "<style scoped>\n",
       "    .dataframe tbody tr th:only-of-type {\n",
       "        vertical-align: middle;\n",
       "    }\n",
       "\n",
       "    .dataframe tbody tr th {\n",
       "        vertical-align: top;\n",
       "    }\n",
       "\n",
       "    .dataframe thead th {\n",
       "        text-align: right;\n",
       "    }\n",
       "</style>\n",
       "<table border=\"1\" class=\"dataframe\">\n",
       "  <thead>\n",
       "    <tr style=\"text-align: right;\">\n",
       "      <th></th>\n",
       "      <th>resource_id</th>\n",
       "    </tr>\n",
       "  </thead>\n",
       "  <tbody>\n",
       "    <tr>\n",
       "      <th>0</th>\n",
       "      <td>356</td>\n",
       "    </tr>\n",
       "    <tr>\n",
       "      <th>1</th>\n",
       "      <td>357</td>\n",
       "    </tr>\n",
       "    <tr>\n",
       "      <th>2</th>\n",
       "      <td>358</td>\n",
       "    </tr>\n",
       "    <tr>\n",
       "      <th>3</th>\n",
       "      <td>359</td>\n",
       "    </tr>\n",
       "    <tr>\n",
       "      <th>4</th>\n",
       "      <td>360</td>\n",
       "    </tr>\n",
       "  </tbody>\n",
       "</table>\n",
       "</div>"
      ],
      "text/plain": [
       "   resource_id\n",
       "0          356\n",
       "1          357\n",
       "2          358\n",
       "3          359\n",
       "4          360"
      ]
     },
     "execution_count": 21,
     "metadata": {},
     "output_type": "execute_result"
    }
   ],
   "source": [
    "# Составим список уникальных (всех) курсов.\n",
    "# Эта же табличка будет итоговой.\n",
    "result = df_sold_courses[['resource_id']].sort_values('resource_id').reset_index(drop=True)\n",
    "print('Всего уникальных курсов (кол-во строк):', len(result))\n",
    "result.head()"
   ]
  },
  {
   "cell_type": "code",
   "execution_count": 22,
   "metadata": {
    "scrolled": true
   },
   "outputs": [
    {
     "name": "stdout",
     "output_type": "stream",
     "text": [
      "Кол-во строк в result: 126\n"
     ]
    },
    {
     "data": {
      "text/html": [
       "<div>\n",
       "<style scoped>\n",
       "    .dataframe tbody tr th:only-of-type {\n",
       "        vertical-align: middle;\n",
       "    }\n",
       "\n",
       "    .dataframe tbody tr th {\n",
       "        vertical-align: top;\n",
       "    }\n",
       "\n",
       "    .dataframe thead th {\n",
       "        text-align: right;\n",
       "    }\n",
       "</style>\n",
       "<table border=\"1\" class=\"dataframe\">\n",
       "  <thead>\n",
       "    <tr style=\"text-align: right;\">\n",
       "      <th></th>\n",
       "      <th>resource_id</th>\n",
       "      <th>recommended_1</th>\n",
       "      <th>method_1</th>\n",
       "      <th>recommended_2</th>\n",
       "      <th>method_2</th>\n",
       "    </tr>\n",
       "  </thead>\n",
       "  <tbody>\n",
       "    <tr>\n",
       "      <th>0</th>\n",
       "      <td>356</td>\n",
       "      <td>571</td>\n",
       "      <td>Пары</td>\n",
       "      <td>357</td>\n",
       "      <td>Пары</td>\n",
       "    </tr>\n",
       "    <tr>\n",
       "      <th>1</th>\n",
       "      <td>357</td>\n",
       "      <td>571</td>\n",
       "      <td>Пары</td>\n",
       "      <td>356</td>\n",
       "      <td>Пары</td>\n",
       "    </tr>\n",
       "    <tr>\n",
       "      <th>2</th>\n",
       "      <td>358</td>\n",
       "      <td>570</td>\n",
       "      <td>Пары</td>\n",
       "      <td>752</td>\n",
       "      <td>Пары</td>\n",
       "    </tr>\n",
       "    <tr>\n",
       "      <th>3</th>\n",
       "      <td>359</td>\n",
       "      <td>570</td>\n",
       "      <td>Пары</td>\n",
       "      <td>358</td>\n",
       "      <td>Пары</td>\n",
       "    </tr>\n",
       "    <tr>\n",
       "      <th>4</th>\n",
       "      <td>360</td>\n",
       "      <td>745</td>\n",
       "      <td>Пары</td>\n",
       "      <td>516</td>\n",
       "      <td>Пары</td>\n",
       "    </tr>\n",
       "  </tbody>\n",
       "</table>\n",
       "</div>"
      ],
      "text/plain": [
       "   resource_id  recommended_1 method_1  recommended_2 method_2\n",
       "0          356            571     Пары            357     Пары\n",
       "1          357            571     Пары            356     Пары\n",
       "2          358            570     Пары            752     Пары\n",
       "3          359            570     Пары            358     Пары\n",
       "4          360            745     Пары            516     Пары"
      ]
     },
     "execution_count": 22,
     "metadata": {},
     "output_type": "execute_result"
    }
   ],
   "source": [
    "# Напишем функцию, которая будет подбирать рекомендательные курсы согласно нашим условиям.\n",
    "def findRecommended(x):\n",
    "    # Итоговый список с рекомендуемыми курсами и способом как его выбрали.\n",
    "    res = []\n",
    "        \n",
    "    # Поиск первого рекомендуемого курса в табличке популярности пар курсов.\n",
    "    # Сразу сортируем по популярности пар и затем по популярности продаж, если популярность пар совпадает.\n",
    "    search_1 = df_pairs[df_pairs['c1'] == x].sort_values(['amount','amount_sold'], ascending=False)\n",
    "    \n",
    "    # Курс найден в табличке популярности пар. \n",
    "    if len(search_1) > 0:\n",
    "        res.append(search_1['c2'].iloc[0])\n",
    "        res.append('Пары') # Если нашли в табличке популярности пар.\n",
    "    # Иначе выбираем рандомный курс из первых 20 по популярности.\n",
    "    else:\n",
    "        res.append(df_sold_courses.iloc[:20]['resource_id'][random.randint(0,19)])\n",
    "        res.append('Продажи') # Если нашли в табличке популярности продаж.\n",
    "        \n",
    "    # Аналогичный поиск второго рекомендуемого курса, с исключением найденного первого.\n",
    "    search_2 = df_pairs[(df_pairs['c1'] == x)&(df_pairs['c2'] != res[0])]\\\n",
    "        .sort_values(['amount','amount_sold'], ascending=False)\n",
    "    \n",
    "    # Курс найден в табличке популярности пар. \n",
    "    if len(search_2) > 0:\n",
    "        res.append(search_2['c2'].iloc[0])\n",
    "        res.append('Пары') # Если нашли в табличке популярности пар.\n",
    "    # Иначе выбираем рандомный курс из первых 20 по популярности.\n",
    "    else:\n",
    "        res.append(df_sold_courses[df_sold_courses['resource_id'] != res[0]].iloc[:20]['resource_id'].iloc[random.randint(0,18)])\n",
    "        res.append('Продажи')\n",
    "    \n",
    "    return res\n",
    "    \n",
    "result['col'] = result['resource_id'].apply(findRecommended)\n",
    "\n",
    "result[['recommended_1', 'method_1', 'recommended_2', 'method_2']] = pd.DataFrame(result['col'].to_list())\n",
    "result.drop(columns='col', inplace=True)\n",
    "print('Кол-во строк в result:', len(result))\n",
    "result.head()"
   ]
  },
  {
   "cell_type": "code",
   "execution_count": 23,
   "metadata": {
    "scrolled": true
   },
   "outputs": [
    {
     "data": {
      "text/plain": [
       "Пары       118\n",
       "Продажи      8\n",
       "Name: method_1, dtype: int64"
      ]
     },
     "execution_count": 23,
     "metadata": {},
     "output_type": "execute_result"
    }
   ],
   "source": [
    "result['method_1'].value_counts()"
   ]
  },
  {
   "cell_type": "code",
   "execution_count": 24,
   "metadata": {},
   "outputs": [
    {
     "data": {
      "text/plain": [
       "Пары       117\n",
       "Продажи      9\n",
       "Name: method_2, dtype: int64"
      ]
     },
     "execution_count": 24,
     "metadata": {},
     "output_type": "execute_result"
    }
   ],
   "source": [
    "result['method_2'].value_counts()"
   ]
  },
  {
   "cell_type": "markdown",
   "metadata": {},
   "source": [
    "В результате 17 рекомендаций было подобрано рандомно из 20 самых популярных курсов по результатам продаж, остальные по популярности совместных покупок."
   ]
  },
  {
   "cell_type": "code",
   "execution_count": 25,
   "metadata": {},
   "outputs": [
    {
     "data": {
      "text/html": [
       "<div>\n",
       "<style scoped>\n",
       "    .dataframe tbody tr th:only-of-type {\n",
       "        vertical-align: middle;\n",
       "    }\n",
       "\n",
       "    .dataframe tbody tr th {\n",
       "        vertical-align: top;\n",
       "    }\n",
       "\n",
       "    .dataframe thead th {\n",
       "        text-align: right;\n",
       "    }\n",
       "</style>\n",
       "<table border=\"1\" class=\"dataframe\">\n",
       "  <thead>\n",
       "    <tr style=\"text-align: right;\">\n",
       "      <th></th>\n",
       "      <th>resource_id</th>\n",
       "      <th>recommended_1</th>\n",
       "      <th>recommended_2</th>\n",
       "    </tr>\n",
       "  </thead>\n",
       "  <tbody>\n",
       "    <tr>\n",
       "      <th>0</th>\n",
       "      <td>356</td>\n",
       "      <td>571</td>\n",
       "      <td>357</td>\n",
       "    </tr>\n",
       "    <tr>\n",
       "      <th>1</th>\n",
       "      <td>357</td>\n",
       "      <td>571</td>\n",
       "      <td>356</td>\n",
       "    </tr>\n",
       "    <tr>\n",
       "      <th>2</th>\n",
       "      <td>358</td>\n",
       "      <td>570</td>\n",
       "      <td>752</td>\n",
       "    </tr>\n",
       "    <tr>\n",
       "      <th>3</th>\n",
       "      <td>359</td>\n",
       "      <td>570</td>\n",
       "      <td>358</td>\n",
       "    </tr>\n",
       "    <tr>\n",
       "      <th>4</th>\n",
       "      <td>360</td>\n",
       "      <td>745</td>\n",
       "      <td>516</td>\n",
       "    </tr>\n",
       "    <tr>\n",
       "      <th>...</th>\n",
       "      <td>...</td>\n",
       "      <td>...</td>\n",
       "      <td>...</td>\n",
       "    </tr>\n",
       "    <tr>\n",
       "      <th>121</th>\n",
       "      <td>1188</td>\n",
       "      <td>1141</td>\n",
       "      <td>513</td>\n",
       "    </tr>\n",
       "    <tr>\n",
       "      <th>122</th>\n",
       "      <td>1198</td>\n",
       "      <td>571</td>\n",
       "      <td>551</td>\n",
       "    </tr>\n",
       "    <tr>\n",
       "      <th>123</th>\n",
       "      <td>1199</td>\n",
       "      <td>566</td>\n",
       "      <td>794</td>\n",
       "    </tr>\n",
       "    <tr>\n",
       "      <th>124</th>\n",
       "      <td>1200</td>\n",
       "      <td>840</td>\n",
       "      <td>571</td>\n",
       "    </tr>\n",
       "    <tr>\n",
       "      <th>125</th>\n",
       "      <td>1201</td>\n",
       "      <td>515</td>\n",
       "      <td>507</td>\n",
       "    </tr>\n",
       "  </tbody>\n",
       "</table>\n",
       "<p>126 rows × 3 columns</p>\n",
       "</div>"
      ],
      "text/plain": [
       "     resource_id  recommended_1  recommended_2\n",
       "0            356            571            357\n",
       "1            357            571            356\n",
       "2            358            570            752\n",
       "3            359            570            358\n",
       "4            360            745            516\n",
       "..           ...            ...            ...\n",
       "121         1188           1141            513\n",
       "122         1198            571            551\n",
       "123         1199            566            794\n",
       "124         1200            840            571\n",
       "125         1201            515            507\n",
       "\n",
       "[126 rows x 3 columns]"
      ]
     },
     "metadata": {},
     "output_type": "display_data"
    }
   ],
   "source": [
    "# Итоговый ДатаФрейм.\n",
    "result.drop(columns=['method_1', 'method_2'], inplace=True)\n",
    "display(result)"
   ]
  },
  {
   "cell_type": "code",
   "execution_count": 26,
   "metadata": {
    "scrolled": false
   },
   "outputs": [
    {
     "data": {
      "image/png": "[encoded data removed]",
      "text/plain": [
       "<Figure size 1440x360 with 1 Axes>"
      ]
     },
     "metadata": {
      "needs_background": "light"
     },
     "output_type": "display_data"
    },
    {
     "data": {
      "image/png": "[encoded data removed]",
      "text/plain": [
       "<Figure size 1440x360 with 1 Axes>"
      ]
     },
     "metadata": {
      "needs_background": "light"
     },
     "output_type": "display_data"
    },
    {
     "data": {
      "image/png": "[encoded data removed]",
      "text/plain": [
       "<Figure size 1440x360 with 1 Axes>"
      ]
     },
     "metadata": {
      "needs_background": "light"
     },
     "output_type": "display_data"
    }
   ],
   "source": [
    "dataPlot = result['recommended_1'].value_counts()\n",
    "plt.figure(figsize=(20,5))\n",
    "ax = sns.barplot(x=dataPlot.index, y=dataPlot, order=dataPlot.index)\n",
    "ax.set_title('Количество рекомендаций каждого курса в качестве 1-го рекомендуемого.')\n",
    "_ = ax.set_yticks([i for i in range(0, max(dataPlot)+2, 2)])\n",
    "\n",
    "dataPlot = result['recommended_2'].value_counts()\n",
    "plt.figure(figsize=(20,5))\n",
    "ax = sns.barplot(x=dataPlot.index, y=dataPlot, order=dataPlot.index)\n",
    "ax.set_title('Количество рекомендаций каждого курса в качестве 2-го рекомендуемого.')\n",
    "_ = ax.set_yticks([i for i in range(0, max(dataPlot)+2, 2)])\n",
    "\n",
    "dataPlot = result['recommended_2'].value_counts().append(result['recommended_1'].value_counts())\\\n",
    "    .reset_index().groupby('index').sum().sort_values(0, ascending=False)\\\n",
    "    .rename(columns={0: 'all'})['all']\n",
    "plt.figure(figsize=(20,5))\n",
    "ax = sns.barplot(x=dataPlot.index, y=dataPlot, order=dataPlot.index, )\n",
    "ax.set_title('Количество рекомендаций каждого курса.')\n",
    "_ = ax.set_yticks([i for i in range(0, max(dataPlot)+2, 2)])"
   ]
  },
  {
   "cell_type": "code",
   "execution_count": 27,
   "metadata": {
    "scrolled": true
   },
   "outputs": [
    {
     "name": "stdout",
     "output_type": "stream",
     "text": [
      "Медиана и среднее кол-во рекомендованных (соответственно): 2.0 и 5\n",
      "Первые 5 курсов по популярности использования в качестве рекомендуемых: [551, 566, 745, 571, 523]\n"
     ]
    }
   ],
   "source": [
    "print('Медиана и среднее кол-во рекомендованных (соответственно):', dataPlot.median(), 'и', round(dataPlot.mean()))\n",
    "print('Первые 5 курсов по популярности использования в качестве рекомендуемых:',\\\n",
    "      str(dataPlot.to_frame().reset_index().rename(columns={'index': 'resource_id'}).iloc[0:5]['resource_id'].to_list()))"
   ]
  },
  {
   "cell_type": "markdown",
   "metadata": {},
   "source": [
    "<a id='Task1_end'></a>\n",
    "### Результаты работы с задачей 1.\n",
    "Были получены данные по продажам курсов, создана табличка по совместной покупке курсов каждым из пользователей, определены все возможные пары продаваемых совместно курсов, рассчитана популярность каждой пары. Были найдены самые продаваемые курсы. На основании полученных сведений был создан итоговый DataFrame в котором для каждого курса подобрано два рекомендуемых исходя из основного условия популярности пар совместно продаваемых курсов и дополнительного условия по самому продаваемому, если основное условие не сработало.\n",
    "\n",
    "Немного фактов и статистики:\n",
    "1. Всего курсов 126.\n",
    "2. В среднем каждый курс участвует в рекомендациях в пяти других.\n",
    "3. Первые 5 курсов по популярности использования в качестве рекомендуемых: [551, 566, 745, 571, 570]\n",
    "4. В 17 случаях (13%) в качестве рекомендованных курсов предлагались на основании популярности продаж, а не на основании популярности совместных приобретений.\n",
    "\n",
    "Рекомендации и дальнейшая работа:\n",
    "1. Использовать полученные результаты непосредственно в работе с проведением A/B-тестирования.\n",
    "2. Текущая работа проводилась на весьма скудном наборе данных. Рекомендуется дополнить данные названиями курсов, тематикой, данными по трендовым темам (популярности в Интернете), данными по пользователям и пр.\n",
    "3. Рассмотреть возможность применения совместно с \"пунктом 2\" методов машинного обучения классификации и/или кластеризации."
   ]
  },
  {
   "cell_type": "markdown",
   "metadata": {},
   "source": [
    "Рассчитаем минимальный размер выборки необходимые для проведения А/Б тестирования при уровне достоверности 95% и статистической мощности 80%. Перед началом внедрения системы рекомендации конверсия купивших более одного курса 3,2%, ожидаем поднятие конверсии до 4%."
   ]
  },
  {
   "cell_type": "code",
   "execution_count": 28,
   "metadata": {},
   "outputs": [
    {
     "name": "stdout",
     "output_type": "stream",
     "text": [
      "Минимальный размер выборки для проведения А/Б-тестирования: 7744\n"
     ]
    }
   ],
   "source": [
    "conv = 0.032\n",
    "conv_new = 0.04\n",
    "n = 16*conv*(1-conv)/(conv_new-conv)**2\n",
    "print('Минимальный размер выборки для проведения А/Б-тестирования:', int(n))"
   ]
  },
  {
   "cell_type": "markdown",
   "metadata": {},
   "source": [
    "<a id='Task2_start'></a>\n",
    "## Задача 2. Анализ результатов A/B тестирования по внедрению рекомендаций по курсам.\n",
    "\n",
    "По прошествии месяца после внедрения системы рекомендации нам прислали результаты A/B тестирования:\n",
    "в тестовой группе из 8732 клиентов купили больше одного курса 293 клиента, в контрольной из 8847 клиентов - 347 купили."
   ]
  },
  {
   "cell_type": "markdown",
   "metadata": {},
   "source": [
    "Сформируем нулевую гипотезу H0: конверсия купивших более одного курса в тестовой и контрольной группе не изменилась.\n",
    "Выборки достаточной большие, случайные и независимые. Размеры выборок больше минимально необходимого.\n",
    "Протестируем нулевую гипотезу на уровне значимости в 5%."
   ]
  },
  {
   "cell_type": "code",
   "execution_count": 29,
   "metadata": {},
   "outputs": [
    {
     "name": "stdout",
     "output_type": "stream",
     "text": [
      "Конверсия в покупку больше одного курса в тестовой группе пользователей 0.0336\n",
      "Конверсия в покупку больше одного курса в контрольнй группе пользователей 0.0392\n"
     ]
    }
   ],
   "source": [
    "n1 = 8732\n",
    "n2 = 8847\n",
    "p1 = 293/n1\n",
    "p2 = 347/n2\n",
    "print('Конверсия в покупку больше одного курса в тестовой группе пользователей', round(p1,4))\n",
    "print('Конверсия в покупку больше одного курса в контрольнй группе пользователей', round(p2,4))"
   ]
  },
  {
   "cell_type": "code",
   "execution_count": 30,
   "metadata": {},
   "outputs": [
    {
     "name": "stdout",
     "output_type": "stream",
     "text": [
      "Сравнение двух пропорций номинативных переменных (купил/не купил) на \n",
      "основании нормального распределения (z-статистика) \n",
      "p-value =  0.045\n"
     ]
    }
   ],
   "source": [
    "from statsmodels.stats.proportion import proportions_ztest\n",
    "count = [293, 347]\n",
    "nobs = [n1, n2]\n",
    "z_stat, p_value = proportions_ztest(count, nobs)\n",
    "print('Сравнение двух пропорций номинативных переменных (купил/не купил) на \\nосновании нормального распределения (z-статистика) \\np-value = ',round(p_value,3))"
   ]
  },
  {
   "cell_type": "markdown",
   "metadata": {},
   "source": [
    "Нулевая гипотеза отвергается, различия в конверсии статистически значимы."
   ]
  },
  {
   "cell_type": "code",
   "execution_count": 31,
   "metadata": {},
   "outputs": [
    {
     "name": "stdout",
     "output_type": "stream",
     "text": [
      "Сравнение двух пропорций (наблюдаемые значения и ожидаемые значения) номинативных переменных (купил/не купил) \n",
      "при помощи статистического теста ХИ-квадрат Пирсона \n",
      "p-value =  0.001\n"
     ]
    }
   ],
   "source": [
    "from scipy import stats\n",
    "z_stat, p_value = stats.chisquare([347, n2], [293, n1])\n",
    "print('Сравнение двух пропорций (наблюдаемые значения и ожидаемые значения) номинативных переменных (купил/не купил) \\nпри помощи статистического теста ХИ-квадрат Пирсона \\np-value = ',round(p_value,3))"
   ]
  },
  {
   "cell_type": "markdown",
   "metadata": {},
   "source": [
    "Нулевая гипотеза отвергается, различия в конверсии статистически значимы."
   ]
  },
  {
   "cell_type": "markdown",
   "metadata": {},
   "source": [
    "<a id='Task2_end'></a>\n",
    "### Выводы к Задаче 2. \n",
    "По результатам проведения А/Б тестирования и проверки гипотезы об изменении (увеличении) конверсии в покупку больше одного курса на статистическую значимость считаю целесобразными внедрения системы рекомендации курсов."
   ]
  }
 ],
 "metadata": {
  "kernelspec": {
   "display_name": "Python 3",
   "language": "python",
   "name": "python3"
  },
  "language_info": {
   "codemirror_mode": {
    "name": "ipython",
    "version": 3
   },
   "file_extension": ".py",
   "mimetype": "text/x-python",
   "name": "python",
   "nbconvert_exporter": "python",
   "pygments_lexer": "ipython3",
   "version": "3.7.9"
  }
 },
 "nbformat": 4,
 "nbformat_minor": 4
}
